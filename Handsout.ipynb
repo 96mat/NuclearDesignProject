{
 "cells": [
  {
   "cell_type": "markdown",
   "id": "e709b5b4-b796-4870-a416-23b341060861",
   "metadata": {},
   "source": [
    "# Estimation of Heat-transfer coefficient"
   ]
  },
  {
   "cell_type": "markdown",
   "id": "1e56dcc5-039b-46c6-a903-2422b5da599d",
   "metadata": {},
   "source": [
    "Reactor core is arranged in Square Lattice geometry\n",
    "\n",
    "+ The idea is to calculate the Darcy pressure losses $f=0.184\\cdot Re^{-0.20}$\n",
    "\n",
    "+ Re-number can be calculated as follows: $Re=\\frac{\\rho D_H v}{\\mu}$\n",
    "+ coolant velocity $v=D_h^{0.5}$\n",
    "+ Wet diameter $D_H=4A_p/P_w$\n",
    "+ $D_H=d\\bigg(\\frac{4}{\\pi}\\bigg(\\frac{p}{d}\\bigg)^2-1\\bigg)$\n",
    "+ $A_p=p^2-\\frac{\\pi\\cdot d^2}{4}$\n",
    "+ $p_w=\\pi d$\n",
    "+ $Pe=Re\\cdot Pr$\n",
    "+ $Pr=\\frac{Cp\\mu}{k}$\n",
    "+ $h=Nu\\cdot k/D_H$"
   ]
  },
  {
   "cell_type": "code",
   "execution_count": 2,
   "id": "6f707d05-2888-420b-9dd3-e96d1799ea6a",
   "metadata": {},
   "outputs": [],
   "source": [
    "import numpy as np\n",
    "import matplotlib as plt"
   ]
  },
  {
   "cell_type": "code",
   "execution_count": 3,
   "id": "0ce974ef-5093-4a97-9c75-0a6a43b0c60e",
   "metadata": {},
   "outputs": [],
   "source": [
    "#Geometry of the pellet\n",
    "d=6.98*10**(-3) #m"
   ]
  },
  {
   "cell_type": "code",
   "execution_count": 16,
   "id": "b24b26df-871b-4ca0-8667-ead9d6bc99f0",
   "metadata": {},
   "outputs": [],
   "source": [
    "# Coolant properties\n",
    "rho_cool=10520 #kg/m3\n",
    "mu=0.002       #Pa*s\n",
    "cp=146         #j/kgC\n",
    "k=15.5         #W/mC"
   ]
  },
  {
   "cell_type": "code",
   "execution_count": 7,
   "id": "bb4a4315-cf7c-4858-bd6f-f8d3d3a9a9f9",
   "metadata": {},
   "outputs": [
    {
     "name": "stdout",
     "output_type": "stream",
     "text": [
      "0.08073326688822703\n"
     ]
    }
   ],
   "source": [
    "p=np.pi*d #wet perimeter\n",
    "Ap=p**2-(np.pi*d/4)\n",
    "D_H=d*(4/np.pi*(p/d)**2-1) #m\n",
    "print(D_H)"
   ]
  },
  {
   "cell_type": "code",
   "execution_count": 13,
   "id": "fc279d03-e720-4dbe-821f-d7c0f03b881d",
   "metadata": {},
   "outputs": [
    {
     "name": "stdout",
     "output_type": "stream",
     "text": [
      "256713.54035627694 0.015238003457619125\n"
     ]
    }
   ],
   "source": [
    "v=D_H**0.2 #m/s\n",
    "Re=rho_cool*D_H*v/mu\n",
    "f_darcy=0.184*Re**(-0.20)\n",
    "print(Re,f_darcy)"
   ]
  },
  {
   "cell_type": "markdown",
   "id": "5cdc59e0-2b02-43f5-bbfc-f644e2f56825",
   "metadata": {},
   "source": [
    "## Heat-transfer coefficient"
   ]
  },
  {
   "cell_type": "code",
   "execution_count": 14,
   "id": "12bbaea9-b504-44cd-9d20-9fff7d8697f4",
   "metadata": {},
   "outputs": [
    {
     "name": "stdout",
     "output_type": "stream",
     "text": [
      "0.6045197656699588\n"
     ]
    }
   ],
   "source": [
    "h=D_H**0.2 #W/mK\n",
    "print(h)"
   ]
  },
  {
   "cell_type": "code",
   "execution_count": 24,
   "id": "fa2ca77e-60eb-423b-9d87-2bca2f252ed0",
   "metadata": {},
   "outputs": [
    {
     "name": "stdout",
     "output_type": "stream",
     "text": [
      "4.576388506940316\n",
      "4836.151857034379\n",
      "878.6219682622418\n"
     ]
    }
   ],
   "source": [
    "Pr=cp*mu/k\n",
    "Pe=Re*Pr\n",
    "Nu=0.58\n",
    "Nu=4.5+0.014*Pe**(0.2)\n",
    "print(Nu)\n",
    "print(Pe)\n",
    "h=Nu*k/D_H\n",
    "print(h)"
   ]
  },
  {
   "cell_type": "code",
   "execution_count": 26,
   "id": "8495e6ab-9585-4729-b739-d8a9a7c17f02",
   "metadata": {},
   "outputs": [
    {
     "name": "stdout",
     "output_type": "stream",
     "text": [
      "99.84063125760333 19168.427640062724\n"
     ]
    }
   ],
   "source": [
    "Nu_ditus=0.023*Re**0.8*Pr**0.4\n",
    "h_ditus=Nu_ditus*k/D_H\n",
    "print(Nu_ditus, h_ditus)"
   ]
  },
  {
   "cell_type": "code",
   "execution_count": null,
   "id": "4fa6334e-0ab4-497c-83ea-ce11a0653574",
   "metadata": {},
   "outputs": [],
   "source": []
  }
 ],
 "metadata": {
  "kernelspec": {
   "display_name": "Python 3 (ipykernel)",
   "language": "python",
   "name": "python3"
  },
  "language_info": {
   "codemirror_mode": {
    "name": "ipython",
    "version": 3
   },
   "file_extension": ".py",
   "mimetype": "text/x-python",
   "name": "python",
   "nbconvert_exporter": "python",
   "pygments_lexer": "ipython3",
   "version": "3.8.13"
  }
 },
 "nbformat": 4,
 "nbformat_minor": 5
}
