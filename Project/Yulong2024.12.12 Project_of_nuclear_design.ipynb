{
  "nbformat": 4,
  "nbformat_minor": 0,
  "metadata": {
    "colab": {
      "provenance": []
    },
    "kernelspec": {
      "name": "python3",
      "display_name": "Python 3"
    },
    "language_info": {
      "name": "python"
    }
  },
  "cells": [
    {
      "cell_type": "markdown",
      "source": [
        "The basic given value."
      ],
      "metadata": {
        "id": "NZFLBtMMrPOu"
      }
    },
    {
      "cell_type": "code",
      "execution_count": 1,
      "metadata": {
        "id": "ASBhLLZvW5P-",
        "colab": {
          "base_uri": "https://localhost:8080/"
        },
        "outputId": "0fa1f42e-1af8-4d85-a50d-172a927c11ee"
      },
      "outputs": [
        {
          "output_type": "stream",
          "name": "stdout",
          "text": [
            "Cp = 1283.55714060025 \n",
            "ratio of the fuel composition : 0.8816083094164275\n",
            "mass of the fuel : 0.209498814125055 [kg] \n",
            "heat flux distribution : [ 9357.9625     10366.97615677 11358.0353089  12331.13995638\n",
            " 13286.29009922 14223.48573742 15142.72687098 16044.0134999\n",
            " 16927.34562417 17792.7232438  18640.14635879 19469.61496914\n",
            " 20281.12907484 21074.6886759  21850.29377232 22607.9443641\n",
            " 23347.64045123 24069.38203372 24773.16911157 25459.00168478\n",
            " 26126.87975334 26776.80331726 27408.77237654 28022.78693118\n",
            " 28618.84698118 29196.95252653 29757.10356724 30299.30010331\n",
            " 30823.54213473 31329.82966151 31818.16268365 32288.54120115\n",
            " 32740.96521401 33175.43472222 33591.94972579 33990.51022472\n",
            " 34371.11621901 34733.76770865 35078.46469365 35405.20717401\n",
            " 35713.99514973 36004.8286208  36277.70758724 36532.63204903\n",
            " 36769.60200617 36988.61745868 37189.67840654 37372.78484976\n",
            " 37537.93678834 37685.13422227 37814.37715157 37925.66557622\n",
            " 38018.99949622 38094.37891159 38151.80382231 38191.2742284\n",
            " 38212.79012983 38216.35152663 38201.95841878 38169.6108063\n",
            " 38119.30868916 38051.05206739 37964.84094098 37860.67530992\n",
            " 37738.55517422 37598.48053387 37440.45138889 37264.46773926\n",
            " 37070.52958499 36858.63692608 36628.78976252 36380.98809433\n",
            " 36115.23192149 35831.52124401 35529.85606188 35210.23637511\n",
            " 34872.66218371 34517.13348765 34143.65028696 33752.21258162\n",
            " 33342.82037165 32915.47365702 32470.17243776 32006.91671386\n",
            " 31525.70648531 31026.54175212 30509.42251428 29974.34877181\n",
            " 29421.32052469 28850.33777293 28261.40051653 27654.50875548\n",
            " 27029.6624898  26386.86171947 25726.1064445  25047.39666488\n",
            " 24350.73238062 23636.11359173 22903.54029818 22153.0125    ]\n",
            "middle temperature of the coolant : 488.2608798949759 [degC]\n",
            "outlet temperature of the coolant : 600.558014296455 [degC]\n",
            "395.0\n"
          ]
        }
      ],
      "source": [
        "import math\n",
        "from scipy.integrate import quad\n",
        "import numpy as np\n",
        "from sympy import sqrt\n",
        "\n",
        "#Give data\n",
        "lp = 38.7 #linear power peak kW/m\n",
        "day = 360 # one cycle duration of 360 days\n",
        "\n",
        "#Neutronic specifications\n",
        "phi = 6.1 #neutron flux at peak power node (10*e15 n*cm-2*s-1)\n",
        "\n",
        "#Thermo-hydraulic specifications\n",
        "pitch = 8.275e-3 #pin pitch\n",
        "Co_in_t = 395+273.15 #Coolant inlet temperature K 开尔文\n",
        "Co_in_p = 0.1 #Coolant inlet pressure (MPa)\n",
        "Co_m = 0.049 #Coolant mass flow rate(kg s-1)\n",
        "\n",
        "#Fuel pin specification\n",
        "F_ch = 850e-3 #Fuel column height m\n",
        "F_od = 5.42e-3 #Fuel outer diameter m\n",
        "F_h = 7e-3 #Fuel pellet heigth m\n",
        "F_td = 11.31e3 #Fuel theretical density kg/m3\n",
        "F_d = 0.945  #Fuel density %TD\n",
        "F_gd = 10e-6 #Fuel grain diameter\n",
        "omr = 1.957 #Oxygen-to-metal ratio(O/M)\n",
        "Cot = 6.55e-3 #Cladding outer diameter\n",
        "#Filling gas is Helium\n",
        "Ipg = 0.1 #Initial pressure of filling gas MPa\n",
        "Itg = 20 #Initial temperature of filling gas degC 摄氏度\n",
        "\n",
        "pi = 3.14\n",
        "\n",
        "# Material composition\n",
        "#Fuel composition\n",
        "U = 0.71 # Natural uranium composition\n",
        "Plu = 0.29 # Given plutonium content\n",
        "\n",
        "# Coolant Properties\n",
        "Cp = 1608 - 0.7481*Co_in_t + 3.929e-4*(Co_in_t**2) # Isobaric specific heat\n",
        "f = 1/2 # 三角形嘅coolant\n",
        "\n",
        "print(f\"Cp = {Cp} \")\n",
        "\n",
        "\n",
        "# All the temperature is 开尔文 需要+273.15\n",
        "\n",
        "# To calculate burnup\n",
        "P_t = 0.0261 # Total power of the 850mm fuel MW\n",
        "t = 360 # 360days for a cycle\n",
        "m_f = F_d*F_td * pi*(F_od/2)**2*F_ch# Mass of the fuel\n",
        "r_m = (238/270)*U+(239/271)*Plu# ratio of the fuel composition massU/massUO2 and Pu\n",
        "\n",
        "print(f\"ratio of the fuel composition : {r_m}\")\n",
        "print(f\"mass of the fuel : {m_f} [kg] \")\n",
        "\n",
        "x = 2 #Deviation from stoichiometery\n",
        "A = 0.01926 + 1.06e-6*x + 2.63e-8*Plu #Value of A\n",
        "B = 2.39e-4 + 1.37e-13*Plu  #Value of B\n",
        "D = 5.27e9 #Value of D\n",
        "E = 17109.5 #Value of E\n",
        "Alpha_L = 1.2e-5 # Linear thermal expansion coefficient\n",
        "\n",
        "# first define an array from bottom to upper part of the fuel\n",
        "z_ar = np.linspace(-0.425,0.425,100);\n",
        "\n",
        "# define lower z position\n",
        "lower_z_limit = z_ar[0];\n",
        "\n",
        "# try to calculate all the temperature in the same z axis\n",
        "# create result array for different height\n",
        "temp_ar = np.zeros(len(z_ar))\n",
        "error = np.zeros(len(z_ar))\n",
        "result = np.zeros(len(z_ar))\n",
        "\n",
        "# define lower z position\n",
        "lower_z_limit = z_ar[0];\n",
        "#This is the function of the power distribution\n",
        "def integrand(x):\n",
        "    return (-121.78*x**2 + 15.053*x + 37.752)*1000 #[W/m]\n",
        "\n",
        "#Heat flux distribution unit W/m, slice 100, q prime\n",
        "hfd = integrand(z_ar)\n",
        "print(f\"heat flux distribution : {hfd}\")\n",
        "\n",
        "\n",
        "for i in range(len(z_ar)):\n",
        "  result[i], error[i] = quad(integrand, lower_z_limit, z_ar[i]);\n",
        "  temp_ar[i] = Co_in_t + f*result[i]/(Co_m*Cp)-273.15;\n",
        "\n",
        "print(f\"middle temperature of the coolant : {temp_ar[int(len(z_ar)/2)]} [degC]\")\n",
        "print(f\"outlet temperature of the coolant : {temp_ar[-1]} [degC]\")\n",
        "print(temp_ar[0])\n"
      ]
    },
    {
      "cell_type": "markdown",
      "source": [
        "The coolant and the cladding heat transfer part"
      ],
      "metadata": {
        "id": "P8Vs5uqr3Y5M"
      }
    },
    {
      "cell_type": "code",
      "source": [
        "from sympy import sqrt\n",
        "import math\n",
        "\n",
        "# coolant properties\n",
        "# density #density of coolant #kg m-3 but we use the 华氏度 Fahrenhei\n",
        "temp_ar_F = temp_ar * 9/5 +32;\n",
        "\n",
        "def den_cool(x):\n",
        "  return 954.1579 + x* (x * (x * (0.9667e-9) - 0.46e-5) -0.1273534);\n",
        "\n",
        "# isobaric specific heat J Kg-1 K-1\n",
        "temp_ar_K = temp_ar + 273.15;\n",
        "def Cp(y):\n",
        "  return 1608 - 0.7481*y + 3.929e-4*(y**2);\n",
        "## Thermal conductivity of coolant #W m-1 K-1\n",
        "def TC_cool(z):\n",
        "  return 110 - 0.0648* z + 1.16e-5*(z**2)\n",
        "\n",
        "#dynamic viscosity\n",
        "def eta(a):\n",
        " return (np.exp(813.9/a - 2.530))*0.001 #eta Dynamic viscosity [mPa s]\n",
        "#print(eta(temp_ar_K))\n",
        "\n",
        "# prandtl number\n",
        "Pr = Cp(temp_ar_K) * eta(temp_ar_K) / TC_cool(temp_ar_K); # Prandlt number\n",
        "#print(Pr)\n",
        "\n",
        "# flow velocity of coolant m/s\n",
        "# coolant of triangle 三角形的流体冷却剂 三角形减去三个 60度的扇形\n",
        "sqrt_3 = np.sqrt(3)\n",
        "A = (sqrt_3)/4 * pitch**2 - 3*(60/360) * (Cot/2)**2 * np.pi\n",
        "def vf(b):\n",
        "  return Co_m * 1/den_cool(temp_ar_K) / A\n",
        "#print(vf(temp_ar_K))\n",
        "\n",
        "#Reynolds number\n",
        "Re = den_cool(temp_ar_F) * vf(temp_ar_K) * (Cot/2) / eta(temp_ar_K)\n",
        "#print(Re)\n",
        "\n",
        "# Pe Peclet number\n",
        "Pe = Re * Pr\n",
        "#print(\"peclet number :\" ,Pe)\n",
        "\n",
        "# Nu Nusselt number\n",
        "Nu = 7 + 0.025*Pe**0.8  # 努塞尔数\n",
        "#print(Nu)\n",
        "\n",
        "# We go on to calculate the cladding temperature, we need to find the h Convective Heat Transfer Coefficient\n",
        "#得到了努塞尔数之后我们倒推对流换热系数\n",
        "Dh = np.sqrt(3)*(pitch)- np.pi/2 * (Cot**2) / pitch # Hydraulic diameter\n",
        "h = Nu * TC_cool(temp_ar_K) / Dh\n",
        "#print(f\"convective heat transfer coefficient : {h} W/m2 K\")\n",
        "\n",
        "#And we can calculate the heat flux q'', we can find the heat flux distribution hfd from pervious code\n",
        "# q prime prime is the heat flux in cladding surface, slice for 100, and the unit is W/m2 这里得到的是表面的热通量或者说是热流\n",
        "qpp = hfd / (np.pi * Cot ) #(10**6)) now it shoudl be the W/m2\n",
        "#print(f\"q prime prime, heat flux distribution in the cladding surface : {qpp} MW/m2\")\n",
        "\n",
        "#Then we use the function with the h 用对流换热方程做, and we can get the cladding outer surface temperature\n",
        "Tcot = qpp/h + temp_ar # notice T_c cladding T_co coolant  unit is deC\n",
        "print(f\"cladding outer middle temperature : {Tcot} [degC]\")\n",
        "print(f\"cladding outer temperature : {Tcot[50]} [degC]\")\n",
        "\n",
        "#Cladding properties 包壳的参数\n",
        "#using the formular of the the sodium heat transfer\n",
        "Tcotk = Tcot + 273.15 # transfer to Kelvins 换开尔文\n",
        "\n",
        "#cladding thermal conductivity W m-1 K-1 开尔文\n",
        "TC_clad = 13.95 + 0.01163*Tcot\n",
        "#print(f\" cladding thermal conductivity : {TC_clad} W m-1 K-1\")\n",
        "\n",
        "# From the lecture we know the cladding thickness of fast reactor should be from 0.3mm to 0.6mm\n",
        "# The thickness assumption\n",
        "ct = ((0.6+0.3)*10**-3)/2# ct is cladding thickness m 0.00045m\n",
        "#print(f\"cladding thickness : {ct} m\")\n",
        "\n",
        "#Cladding inner diameter m\n",
        "Cid = Cot - ct #cladding inner diameter m\n",
        "#print(f\"cladding inner diameter : {Cid} m\")\n",
        "\n",
        "\n",
        "# Total power for each point, the slice is 100\n",
        "P = hfd * F_ch # unit is W/m\n",
        "#print(f\"total power for each point : {P} W/m\")\n",
        "\n",
        "# heat transfer function of the sodium cladding\n",
        "Tcit = Tcot + P * (np.log((Cot/2)/(Cid/2)))/(2 * np.pi * F_ch * TC_clad)\n",
        "print(f\"cladding inner middle temperature : {Tcit[50]} [degC]\")\n",
        "print(f\"cladding inner temperature : {Tcit} [degC]\")\n",
        "\n"
      ],
      "metadata": {
        "colab": {
          "base_uri": "https://localhost:8080/"
        },
        "id": "enxwjd7q06yY",
        "outputId": "f53aef0f-6982-404e-b734-2cb1c5f9bc21"
      },
      "execution_count": 2,
      "outputs": [
        {
          "output_type": "stream",
          "name": "stdout",
          "text": [
            "cladding outer middle temperature : [399.40984693 400.56065321 401.7718755  403.04233219 404.37083826\n",
            " 405.75620539 407.19724195 408.69275315 410.24154103 411.84240456\n",
            " 413.49413968 415.19553939 416.94539377 418.74249005 420.58561269\n",
            " 422.4735434  424.40506123 426.37894259 428.39396132 430.44888876\n",
            " 432.54249378 434.67354284 436.84080006 439.04302724 441.27898393\n",
            " 443.5474275  445.84711316 448.17679402 450.53522116 452.92114369\n",
            " 455.33330874 457.77046159 460.23134568 462.71470267 465.2192725\n",
            " 467.74379344 470.28700213 472.84763367 475.42442162 478.01609812\n",
            " 480.6213939  483.23903835 485.86775957 488.50628443 491.15333865\n",
            " 493.80764682 496.46793248 499.1329182  501.8013256  504.47187542\n",
            " 507.1432876  509.81428135 512.48357518 515.14988698 517.81193409\n",
            " 520.46843337 523.11810124 525.75965378 528.39180678 531.0132758\n",
            " 533.62277625 536.21902349 538.80073284 541.36661969 543.91539958\n",
            " 546.44578825 548.95650173 551.44625639 553.91376906 556.35775707\n",
            " 558.77693833 561.17003143 563.53575571 565.8728313  568.17997928\n",
            " 570.45592167 572.69938159 574.90908329 577.08375226 579.22211528\n",
            " 581.32290055 583.38483774 585.40665808 587.38709445 589.32488147\n",
            " 591.21875557 593.06745509 594.86972035 596.62429376 598.32991987\n",
            " 599.9853455  601.58931979 603.14059431 604.63792314 606.08006293\n",
            " 607.46577304 608.79381558 610.0629555  611.27196071 612.41960212] [degC]\n",
            "cladding outer temperature : 507.1432876008736 [degC]\n",
            "cladding inner middle temperature : 528.7253993056156 [degC]\n",
            "cladding inner temperature : [405.11066705 406.87161666 408.68092249 410.53736815 412.4397384\n",
            " 414.38681915 416.37739738 418.41026116 420.48419958 422.59800272\n",
            " 424.7504616  426.94036816 429.16651517 431.42769622 433.72270565\n",
            " 436.05033847 438.40939036 440.79865757 443.21693688 445.66302551\n",
            " 448.13572112 450.63382168 453.15612548 455.701431   458.26853691\n",
            " 460.85624195 463.46334492 466.08864461 468.73093972 471.38902882\n",
            " 474.06171029 476.74778227 479.44604258 482.15528872 484.87431774\n",
            " 487.60192628 490.33691045 493.07806582 495.82418736 498.57406942\n",
            " 501.32650565 504.08028901 506.83421169 509.5870651  512.33763984\n",
            " 515.08472565 517.8271114  520.56358506 523.29293369 526.01394339\n",
            " 528.72539931 531.4260856  534.11478545 536.79028104 539.45135352\n",
            " 542.09678305 544.72534875 547.33582873 549.92700006 552.49763882\n",
            " 555.04652004 557.57241778 560.07410507 562.55035397 564.99993555\n",
            " 567.42161996 569.81417636 572.17637302 574.50697731 576.8047557\n",
            " 579.06847384 581.29689652 583.48878775 585.64291077 587.75802808\n",
            " 589.83290146 591.86629205 593.8569603  595.80366611 597.70516877\n",
            " 599.56022707 601.3675993  603.12604328 604.83431646 606.49117587\n",
            " 608.09537825 609.64568001 611.14083735 612.57960624 613.96074249\n",
            " 615.28300177 616.54513969 617.7459118  618.88407365 619.95838083\n",
            " 620.967589   621.91045394 622.78573155 623.59217796 624.32854948] [degC]\n"
          ]
        }
      ]
    },
    {
      "cell_type": "markdown",
      "source": [
        "Gas gap(Helium) heat transfer calculation and fuel tempurature\n"
      ],
      "metadata": {
        "id": "krWepprTphW2"
      }
    },
    {
      "cell_type": "code",
      "source": [
        "# GAS gap of the fuel Helium 中间填满了氦气，现在计算气体部分\n",
        "# A of the helium\n",
        "A = 15.8 # 15.8\n",
        "\n",
        "\n",
        "# gap temperature\n",
        "# the gap thermal resistance is defined as\n",
        "# h_gas = k_gas / t_eff; R = 1/(2*pi*R_g*h_g); delta_T = q*R\n",
        "# we assume the cladding inner t is equal to the gas stater t\n",
        "# gas conductivity equation\n",
        "def k_gas(Tcit): # Tcit = Tgo temperature of the outer gas which is the gas of the inner cladding surface\n",
        "  return A*10**-4 * Tcit**0.79;\n",
        "\n",
        "# since the conductivity is not constant and temperature is varied a lot, we can only use iteration to find the fuel outer temperature\n",
        "t_eff =  (Cid - F_od)/2  # [m] effective thickness radius of the gap\n",
        "t_eff_ar = np.linspace(0,t_eff,100); # [m]\n",
        "#MOX_radii_out = MOX_dia/2; # [m] # the fuel outer diameter\n",
        "gap_ar = np.flip(t_eff_ar)*2+ F_od; # [m] + fuel outer diameter\n",
        "# equation is q\" = delta T / (t/k)\n",
        "# create gas temperature array try 100x100\n",
        "e = Tcit # the vertical tempurature of the cladding in\n",
        "\n",
        "temp_gas = np.zeros((len(gap_ar), len(e))) #横方向 100个gas gap， 之后vertical 方向 100个tempurature                                師兄，我唔知呢度點樣去計10,000嘅matrix\n",
        "\n",
        "for x in range(len(temp_gas)):\n",
        "  if x == 0:\n",
        "    temp_gas[x]=Tcit + 273.15; # assign T(x=0)=cladding_in_0 [K] the bottom of the cladding is x =0\n",
        "  else:\n",
        "    temp_gas[x]=hfd[x]/(2*np.pi)*((t_eff_ar[x]-t_eff_ar[x-1])/ F_od )*(1/k_gas(temp_gas[x-1]))+temp_gas[x-1];\n",
        "\n",
        "#print(f\"temperature of the gas: {temp_gas} K\")\n",
        "\n",
        "#k_gas_middle = k_gas(temp_gas[50])\n",
        "#print(k_gas_middle,\"W m-1 K-1\")\n",
        "#temp_gas_middle = temp_gas[50]\n",
        "#print(temp_gas_middle,\"degC\")\n",
        "# convert the temperature to degC\n",
        "#temp_gas_degC = temp_gas-273.15; # [degC]\n",
        "#fuel_temp_out = temp_gas_degC[-1];\n",
        "#print('fuel outer temperature:',fuel_temp_out, '[degC]')\n",
        "\n",
        "#print(temp_gas_degC)\n",
        "\n",
        "# fuel is conduction which at center is highest temperature\n",
        "# q'/(4*pi) = k(T) * delta_T\n",
        "# I is a curve with unknow function but we can use estimation\n",
        "# m /aprrox 1/50, means 50 degC increment cause 1 W/cm\n",
        "# delta_T=\\frac{q'}{4*pi*k}\n",
        "# and LHT is in meter and unit need to be convert to cm\n",
        "#LHT_cm = LHT/100; # [W/cm]\n",
        "\n",
        "\n",
        "\n",
        "#fuel_temp_outk = fuel_temp_out + 273.15# K kelvin\n",
        "fuel_t_outk = temp_gas\n",
        "\n",
        "A = 0.01926 + 1.06e-6*x + 2.63e-8*Plu #Value of A\n",
        "B = 2.39e-4 + 1.37e-13*Plu  #Value of B\n",
        "D = 5.27e9 #Value of D\n",
        "E = 17109.5 #Value of E\n",
        "p = 1 - F_d # 1 - fuel theoretical density\n",
        "if\n",
        "k0 = ((1/(A+B*fuel_temp_outk)) + (D/fuel_temp_outk**2)*math.exp(-E/fuel_temp_outk))*(1-p**2)\n",
        "\n",
        "K_fuel = 1.755 + (k0-1.755)*math.exp(-Beta/128.75)\n",
        "print(f\"thermal conductivity of the fuel : ,{K_fuel} W/m K\")\n",
        "\n",
        "\n",
        "delta_t =  hfd/(4 * np.pi)/K_fuel; # the change of the tempurature\n",
        "\n",
        "fuel_temp_max = fuel_temp_out + delta_t - 273.15; # [degC]\n",
        "\n",
        "\n",
        "print('fuel maximum temperature:',fuel_temp_max, '[degC]')\n",
        "\n",
        "\n",
        "\n"
      ],
      "metadata": {
        "id": "9GmX11CLvaMC",
        "colab": {
          "base_uri": "https://localhost:8080/",
          "height": 110
        },
        "outputId": "f5d8b0dc-f744-4900-df22-bd154d05f47d"
      },
      "execution_count": 3,
      "outputs": [
        {
          "output_type": "error",
          "ename": "SyntaxError",
          "evalue": "invalid syntax (<ipython-input-3-f6bea44a1eba>, line 62)",
          "traceback": [
            "\u001b[0;36m  File \u001b[0;32m\"<ipython-input-3-f6bea44a1eba>\"\u001b[0;36m, line \u001b[0;32m62\u001b[0m\n\u001b[0;31m    if\u001b[0m\n\u001b[0m      ^\u001b[0m\n\u001b[0;31mSyntaxError\u001b[0m\u001b[0;31m:\u001b[0m invalid syntax\n"
          ]
        }
      ]
    },
    {
      "cell_type": "markdown",
      "source": [
        "Calculation of the yielding of the cladding."
      ],
      "metadata": {
        "id": "l4VIeXh6sn8j"
      }
    },
    {
      "cell_type": "code",
      "source": [
        "#Cladding yielding, in pervious calculation, we found the cladding T is lower than 650 degC\n",
        "#At first, in order to calculate the yield, we use the tempurature of midddle of the cladding.\n",
        "import numpy as np\n",
        "# The thickness assumption\n",
        "ct = ((0.6+0.3)*10**-3)/2# ct is cladding thickness m 0.00045m\n",
        "ct_half = ct/2 # In this case we will find the center part diameter of the cladding\n",
        "#print(f\"cladding thickness : {ct} m\")\n",
        "\n",
        "#Cladding center diameter m\n",
        "Ccd = Cot - ct_half #cladding center diameter unit m\n",
        "#print(f\"cladding inner diameter : {Cid} m\")\n",
        "# And we use the same function to calculate the Tcct, cct means center of cladding tempurature\n",
        "Tcct = Tcot + P * (np.log((Cot/2)/(Ccd/2)))/(2 * np.pi * F_ch * TC_clad)\n",
        "\n",
        "\n",
        "data_T = np.array(Tcct)\n",
        "# after we got all tempurature of the center of cladding, then we need to divide the tempurature into two parts. 根据包壳的边界温度，找到中间的温度， 然后把大于等于六百的分出来，小于六百的也分出来\n",
        "Tc_low = data_T [data_T < 600]\n",
        "Tc_high =  data_T [data_T >= 600]\n",
        "\n",
        "\n",
        "\n",
        "#If the T is low than 600 degC\n",
        "sigmaY_low = 555.5 - 0.25 * Tc_low  # T unit is degC, tempurature of cladding which is lower than 600 degC\n",
        "#If the T is equal or greater than 600 degC\n",
        "sigmaY_high = 405 - 0.969*(Tc_high - 600) # T unit is degC, tempurature of the cladding which is higher or equal to 600 degC\n",
        "\n",
        "print(f' yielding strength(sigmaY) T lower 600 degC : {sigmaY_low} [MPa]')\n",
        "print(f' yielding strength(sigmaY) T higher or equal 600 degC : {sigmaY_high} [MPa]')\n",
        "\n",
        "#UTS ultimate tensile strength\n",
        "\n",
        "#If the tempurature is lower than 600 degC\n",
        "uts_low = 700 - 0.3125 * Tc_low # T unit is degC, tempurature of cladding which is lower than 600 degC\n",
        "#If the tempurature is equal or greater than the 600 degC and lower than 1000 degC\n",
        "uts_high = 512.5 - 0.969 * (Tc_high - 600) # T unit is degC, tempurature of the cladding which is higher or equal to 600 degC, but lower than 1000 degC\n",
        "print(f'ultimate tensile strength(UTS) T lower 600 degC  : {uts_low} [MPa]')\n",
        "print(f'ultimate tensile strength(UTS) T higher or equal 600 degC : {uts_high} [MPa]')\n",
        "\n",
        "\n",
        "\n",
        "\n"
      ],
      "metadata": {
        "id": "9lfjPbkmWPR4",
        "colab": {
          "base_uri": "https://localhost:8080/"
        },
        "outputId": "213f0b35-65e7-4b37-9bb5-1b84eca1e636"
      },
      "execution_count": 6,
      "outputs": [
        {
          "output_type": "stream",
          "name": "stdout",
          "text": [
            " yielding strength(sigmaY) T lower 600 degC : [454.94761318 454.58500052 454.20876452 453.81920484 453.41662145\n",
            " 453.0013146  452.57358482 452.1337329  451.68205994 451.21886728\n",
            " 450.74445653 450.25912958 449.76318858 449.25693594 448.74067434\n",
            " 448.2147067  447.67933623 447.13486639 446.5816009  446.01984375\n",
            " 445.44989919 444.87207173 444.28666615 443.6939875  443.09434108\n",
            " 442.48803248 441.87536753 441.25665235 440.63219333 440.00229712\n",
            " 439.36727064 438.72742108 438.08305591 437.43448284 436.7820099\n",
            " 436.12594534 435.4665977  434.80427578 434.13928866 433.47194565\n",
            " 432.80255636 432.13143063 431.45887857 430.78521052 430.11073711\n",
            " 429.43576918 428.76061783 428.08559438 427.4110104  426.73717767\n",
            " 426.06440821 425.39301423 424.72330818 424.05560268 423.39021056\n",
            " 422.72744484 422.06761872 421.41104555 420.75803888 420.10891237\n",
            " 419.46397986 418.82355529 418.18795276 417.55748646 416.93247067\n",
            " 416.31321981 415.70004831 415.09327074 414.49320166 413.90015572\n",
            " 413.31444758 412.73639191 412.16630341 411.60449673 411.05128654\n",
            " 410.50698743 409.97191397 409.44638064 408.93070185 408.42519191\n",
            " 407.93016502 407.44593524 406.97281651 406.51112258 406.06116705\n",
            " 405.62326333] [MPa]\n",
            " yielding strength(sigmaY) T higher or equal 600 degC : [403.82838052 402.22813218 400.67823579 399.17990252 397.73434248\n",
            " 396.34276469 395.00637697 393.72638593 392.50399687 391.34041374\n",
            " 390.23683907 389.19447391 388.21451779 387.29816862] [MPa]\n",
            "ultimate tensile strength(UTS) T lower 600 degC  : [574.30951647 573.85625065 573.38595565 572.89900605 572.39577681\n",
            " 571.87664325 571.34198102 570.79216613 570.22757492 569.64858409\n",
            " 569.05557066 568.44891198 567.82898573 567.19616993 566.55084292\n",
            " 565.89338337 565.22417029 564.54358299 563.85200113 563.14980469\n",
            " 562.43737399 561.71508967 560.98333269 560.24248438 559.49292635\n",
            " 558.7350406  557.96920941 557.19581544 556.41524167 555.6278714\n",
            " 554.8340883  554.03427635 553.22881988 552.41810356 551.60251237\n",
            " 550.78243167 549.95824713 549.13034473 548.29911082 547.46493207\n",
            " 546.62819545 545.78928829 544.94859821 544.10651316 543.26342139\n",
            " 542.41971148 541.57577229 540.73199298 539.888763   539.04647209\n",
            " 538.20551026 537.36626779 536.52913522 535.69450334 534.8627632\n",
            " 534.03430605 533.2095234  532.38880694 531.5725486  530.76114046\n",
            " 529.95497482 529.15444412 528.35994095 527.57185807 526.79058834\n",
            " 526.01652476 525.25006039 524.49158842 523.74150208 523.00019465\n",
            " 522.26805947 521.54548989 520.83287926 520.13062092 519.43910817\n",
            " 518.75873429 518.08989246 517.4329758  516.78837731 516.15648989\n",
            " 515.53770628 514.93241906 514.34102064 513.76390323 513.20145882\n",
            " 512.65407916] [MPa]\n",
            "ultimate tensile strength(UTS) T higher or equal 600 degC : [511.32838052 509.72813218 508.17823579 506.67990252 505.23434248\n",
            " 503.84276469 502.50637697 501.22638593 500.00399687 498.84041374\n",
            " 497.73683907 496.69447391 495.71451779 494.79816862] [MPa]\n"
          ]
        }
      ]
    },
    {
      "cell_type": "markdown",
      "source": [
        "There are some practices here. It is useless. Please neglect."
      ],
      "metadata": {
        "id": "4vwWZ7UhA9bx"
      }
    },
    {
      "cell_type": "code",
      "source": [
        "\n",
        "\n",
        "Beta = P_t*t/(m_f*r_m) #Burnup GWd/t\n",
        "print(f\"Burnup value is : {Beta} [MWd/kg]\" )\n",
        "\n",
        "#Melting temperature of MOX K 开尔文\n",
        "T_m = 2964.92 + ((3147-364.85*Plu-1014.15*x)-2964.92)*math.exp(-Beta/41.01)\n",
        "print(f\"melting temperature: {T_m} [K]\")\n",
        "#Thermal conductivity MOX W/m*K\n",
        "#k = 1.755 + (k0-1.755)*math.exp(-Beta/128.75)\n",
        "\n",
        "#k0 = (1/(A+B*T_k)+D/T_ke2*math.exp(-E/T_k))*(1-p)**2.5\n",
        "\n",
        "T_c = Co_in_t + f*37.752/(Co_m*Cp)   # Temperature of the coolant 在正中间的冷却剂温度\n",
        "print (f\"middle temperature of the coolant : {T_m} [K]\")\n",
        "\n",
        "\n",
        "# We go on to calculate the cladding temperature, we need to find the h Convective Heat Transfer Coefficient\n",
        "\n",
        "#coolant properties\n",
        "TF_c = T_c*9/5 +32 # 华氏度 Fahrenheit center of the cladding and coolant\n",
        "Dh = (1/(pitch**2)) * ((1/(3**2)*(pitch**2)- pi/2 * (Cot**2)))   # Hydraulic diameter\n",
        "D_c = 954.1579 + TF_c* (TF_c * (TF_c * (0.9667e-9) - 0.46e-5) -0.1273534)  #Coolant density\n",
        "TC = 110 - 0.0648 * T_c + 3.929e-4*(T_c**2) # Thermal conductivity\n",
        "\n",
        "\n",
        "\n"
      ],
      "metadata": {
        "id": "UFzvWnE5mSi4",
        "colab": {
          "base_uri": "https://localhost:8080/",
          "height": 110
        },
        "outputId": "e413bce2-394c-41be-d44f-c158dce64883"
      },
      "execution_count": null,
      "outputs": [
        {
          "output_type": "error",
          "ename": "SyntaxError",
          "evalue": "invalid syntax (<ipython-input-17-f85eb87e3551>, line 24)",
          "traceback": [
            "\u001b[0;36m  File \u001b[0;32m\"<ipython-input-17-f85eb87e3551>\"\u001b[0;36m, line \u001b[0;32m24\u001b[0m\n\u001b[0;31m    def Reynolds\u001b[0m\n\u001b[0m                ^\u001b[0m\n\u001b[0;31mSyntaxError\u001b[0m\u001b[0;31m:\u001b[0m invalid syntax\n"
          ]
        }
      ]
    },
    {
      "cell_type": "code",
      "source": [
        "# difference btw lambda and def\n",
        "\n",
        "def sum(a,b):\n",
        "  return a+b;\n",
        "y=sum(1,2);\n",
        "print(y)\n",
        "\n",
        "x = lambda c,d: c+d\n",
        "q=x(1,2)\n",
        "print(q)"
      ],
      "metadata": {
        "colab": {
          "base_uri": "https://localhost:8080/"
        },
        "id": "vRkMrRRKlOI8",
        "outputId": "31d8f19e-e93b-43a3-debc-dd82af45ec7d"
      },
      "execution_count": null,
      "outputs": [
        {
          "output_type": "stream",
          "name": "stdout",
          "text": [
            "3\n",
            "3\n"
          ]
        }
      ]
    },
    {
      "cell_type": "code",
      "source": [
        "from scipy.integrate import quad\n",
        "import numpy as np\n",
        "\n",
        "# first define an array from bottom to upper part of the fuel\n",
        "z_ar = np.linspace(-0.425,0.425,100);\n",
        "\n",
        "# define lower z position\n",
        "lower_z_limit = z_ar[0];\n",
        "\n",
        "# Ayip code\n",
        "# define the square polynomical to fit the power factor data\n",
        "def integrand(x):\n",
        "    return (-121.78*x**2 + 15.053*x + 37.752)*1000 #[W/m]\n",
        "\n",
        "# do the intergral to get the result and the error from integrand method from lowest point to middle point\n",
        "result_mid, error_mid = quad(integrand, lower_z_limit, z_ar[int(len(z_ar)/2)]);\n",
        "\n",
        "# estiamte the temperature of from inlet to the position variable \"z\"\n",
        "T_mid = Co_in_t + f*result_mid/(Co_m*Cp); # [degC]\n",
        "print(f\"middle temperature of the coolant : {T_mid-273.15} [degC]\")\n",
        "\n",
        "# do the intergral to get the result and the error from integrand method from lowest point to top point\n",
        "result_top, error_top = quad(integrand, lower_z_limit,z_ar[-1]);\n",
        "\n",
        "# estiamte the temperature of from inlet to the position variable \"z\"\n",
        "T_top = Co_in_t + f*result_top/(Co_m*Cp); # [degC]\n",
        "print(f\"outlet temperature of the coolant : {T_top-273.15} [degC]\")"
      ],
      "metadata": {
        "colab": {
          "base_uri": "https://localhost:8080/"
        },
        "id": "woDzDcU2gRXq",
        "outputId": "1a052dfc-0805-4b47-b541-861cf51af7fa"
      },
      "execution_count": null,
      "outputs": [
        {
          "output_type": "stream",
          "name": "stdout",
          "text": [
            "middle temperature of the coolant : 488.2608798949759 [degC]\n",
            "outlet temperature of the coolant : 600.558014296455 [degC]\n"
          ]
        }
      ]
    },
    {
      "cell_type": "code",
      "source": [
        "from scipy.integrate import quad\n",
        "import numpy as np\n",
        "\n",
        "# try to calculate all the temperature in the same z axis\n",
        "# create result array for different height\n",
        "temp_ar = np.zeros(len(z_ar))\n",
        "error = np.zeros(len(z_ar))\n",
        "result = np.zeros(len(z_ar))\n",
        "\n",
        "# define lower z position\n",
        "lower_z_limit = z_ar[0];\n",
        "\n",
        "def integrand(x):\n",
        "    return (-121.78*x**2 + 15.053*x + 37.752)*1000 #[W/m]\n",
        "\n",
        "for i in range(len(z_ar)):\n",
        "  result[i], error[i] = quad(integrand, lower_z_limit, z_ar[i]);\n",
        "  temp_ar[i] = Co_in_t + f*result[i]/(Co_m*Cp)-273.15;\n",
        "\n",
        "print(f\"middle temperature of the coolant : {temp_ar[int(len(z_ar)/2)]} [degC]\")\n",
        "print(f\"outlet temperature of the coolant : {temp_ar[-1]} [degC]\")\n",
        "print(f\"all temperature profile:\" {temp_ar})"
      ],
      "metadata": {
        "colab": {
          "base_uri": "https://localhost:8080/"
        },
        "id": "IYngMfrhplh_",
        "outputId": "4eb83a1a-230e-4b09-8668-81b375b930b2"
      },
      "execution_count": null,
      "outputs": [
        {
          "output_type": "stream",
          "name": "stdout",
          "text": [
            "middle temperature of the coolant : 488.2608798949759 [degC]\n",
            "outlet temperature of the coolant : 600.558014296455 [degC]\n"
          ]
        }
      ]
    }
  ]
}