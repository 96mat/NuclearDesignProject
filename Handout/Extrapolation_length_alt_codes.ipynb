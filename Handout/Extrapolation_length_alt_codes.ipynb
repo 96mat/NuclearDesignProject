{
  "nbformat": 4,
  "nbformat_minor": 0,
  "metadata": {
    "colab": {
      "provenance": []
    },
    "kernelspec": {
      "name": "python3",
      "display_name": "Python 3"
    },
    "language_info": {
      "name": "python"
    }
  },
  "cells": [
    {
      "cell_type": "code",
      "source": [
        "import numpy as np\n",
        "import matplotlib as plt\n",
        "from scipy.integrate import quad\n",
        "from scipy.optimize import fsolve\n",
        "\n",
        "# Fuel assembly (FA) representative of average core conditions\n",
        "P_FA = 6.641 #[MW] Fuel assembly thermal power\n",
        "N_FP = 284 #[pin] Number of fuel pins in the fuel assembly\n",
        "q_l0 = 26.03 #[kW/m] Linear heat rate at fuel midplane, q'(0)\n",
        "P_FP = P_FA/N_FP #[MW/pin] Average thermal power per fuel pin\n",
        "H_act = 1100 #[mm] Active length\n",
        "\n",
        "# Define constants\n",
        "int_q_l = (P_FP*1000)/2 #[kW] Integral from z=0 to z=H_act/2 + H_ext is equal to the half of average power of 1 fuel pin\n",
        "print(int_q_l)\n",
        "\n",
        "# Define the function q_l(z)\n",
        "def q_l(z, H_ext):\n",
        "    return q_l0 * np.cos(np.pi * z / H_ext)\n",
        "\n",
        "# Generate multiple values of H_ext for different n\n",
        "def calculate_H_ext(H_act, n_values):\n",
        "    H_ext_values = []\n",
        "    for n in n_values:\n",
        "        H_ext = H_act / (2 * n + 1)\n",
        "        H_ext_values.append(H_ext)\n",
        "    return H_ext_values\n",
        "\n",
        "# Define the function to compute the integral for a given H_ext\n",
        "def compute_integral(H_ext):\n",
        "    # Perform the integral of q_l from 0 to (H_act/2 + H_ext)\n",
        "    result, _ = quad(q_l, 0, H_act/2 + H_ext, args=(H_ext,))\n",
        "    return result\n",
        "\n",
        "# Define the range of n values to check (n = 0, 1, 2, 3, ...)\n",
        "n_values = range(0,10)  # You can adjust the number of solutions by changing this range\n",
        "\n",
        "# Calculate the corresponding H_ext values\n",
        "H_ext_values = calculate_H_ext(H_act, n_values)\n",
        "\n",
        "# Iterate through each H_ext and check if it satisfies the integral condition\n",
        "for n, H_ext in zip(n_values, H_ext_values):\n",
        "    integral_value = compute_integral(H_ext)\n",
        "    print(f\"n={n}, H_ext={H_ext:.2f}, Integral={integral_value:.2f}\")\n",
        "\n",
        "    # Check if the integral value matches the target integral\n",
        "    if np.isclose(integral_value, int_q_l, atol=0.01):\n",
        "        print(f\"Found the correct H_ext: {H_ext} for n={n}\")\n",
        "        break"
      ],
      "metadata": {
        "colab": {
          "base_uri": "https://localhost:8080/"
        },
        "id": "3Ia1OKN6syyi",
        "outputId": "ac8db662-575e-4239-f472-aa3f0ec54ca5"
      },
      "execution_count": 3,
      "outputs": [
        {
          "output_type": "stream",
          "name": "stdout",
          "text": [
            "11.691901408450704\n",
            "n=0, H_ext=1100.00, Integral=-9114.17\n",
            "n=1, H_ext=366.67, Integral=3038.06\n",
            "n=2, H_ext=220.00, Integral=-1822.83\n",
            "n=3, H_ext=157.14, Integral=1302.02\n",
            "n=4, H_ext=122.22, Integral=-1012.69\n",
            "n=5, H_ext=100.00, Integral=828.56\n",
            "n=6, H_ext=84.62, Integral=-701.09\n",
            "n=7, H_ext=73.33, Integral=607.61\n",
            "n=8, H_ext=64.71, Integral=-536.13\n",
            "n=9, H_ext=57.89, Integral=479.69\n"
          ]
        }
      ]
    }
  ]
}