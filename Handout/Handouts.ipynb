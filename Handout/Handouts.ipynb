{
  "cells": [
    {
      "cell_type": "code",
      "execution_count": 202,
      "metadata": {
        "id": "9_7I7kCOZVsm"
      },
      "outputs": [],
      "source": [
        "# Design specifications and material properties\n",
        "\n",
        "import numpy as np\n",
        "import matplotlib as plt\n",
        "from scipy.integrate import quad\n",
        "from scipy.optimize import fsolve\n",
        "\n",
        "\n",
        "# Fuel assembly (FA) representative of average core conditions\n",
        "P_FA = 6.641 #[MW] Fuel assembly thermal power\n",
        "N_FP = 284 #[pin] Number of fuel pins in the fuel assembly\n",
        "q_l0 = 26.03 #[kW/m] Linear heat rate at fuel midplane, q'(0)\n",
        "pitch = 13.6 #[mm] Pin pitch\n",
        "T_co_in = 400 #[°C] Coolant inlet temperature\n",
        "T_co_out = 480 #[°C] Coolant outlet temperature\n",
        "\n",
        "# Coolant properties (uniform along the channel) - Liquid Pb\n",
        "cp_co = 146 #[J/kg-°C] Average heat capacity\n",
        "rho_co = 10520 #[kg/m^3] Average density\n",
        "mu_co = 0.002 #[Pa-s] Average dynamic viscosity\n",
        "k_co = 15.5 #[W/m-°C] Average thermal conductivity\n",
        "\n",
        "# Fuel pins\n",
        "D_clad_ext = 8.50 #[mm] External diameter\n",
        "t_clad = 0.600 #[mm] Cladding thickness\n",
        "H_act = 1100 #[mm] Active length\n",
        "H_tot = 2100 #[mm] Total length\n",
        "\n",
        "# Fuel - solid pellets (MOX)\n",
        "TD_fuel = 11.31 #[g/cm^3] Theoretical density of MOX fuel\n",
        "rho_fuel = 0.88*TD_fuel #[g/cm^3] Density of fuel\n",
        "T_fuel_melt = 2730 #[°C] Melting temperature of fresh fuel\n",
        "D_fuel = 6.98 #[mm] Fuel pellet diameter\n",
        "alpha_l_fuel = 12e-6 #[°C^-1] Linear coefficient of thermal expansion (T_ref = 25°C)\n",
        "Y_fuel = 170 #[GPa] Young's modulus of solid pellets\n",
        "nu_poisson_fuel = 0.31 #[/] Poisson's coefficient\n",
        "\n",
        "# Cladding - Ferritic-martensitic steel T91 (UNS No. K90901)\n",
        "T_clad_melt = 1500 #[°C] Melting temperature of cladding\n",
        "k_clad = 28.7 #[W/m-°C] Average thermal conductivity of cladding\n",
        "alpha_l_clad = 12e-6 #[°C^-1] Linear coefficient of thermal expansion (T_ref = 25°C)\n",
        "Y_clad = 170 #[GPa] Young's modulus of cladding\n",
        "nu_poisson_clad = 0.3 #[/] Poisson's coefficient\n",
        "#SY_clad = 563.1 - 4.878e-1*T_clad + 1.6e-3*T_clad**2 - 3e-6*T_clad**3 + 8e-10*T_clad**4 #[MPa] Yield strength of cladding"
      ]
    },
    {
      "cell_type": "code",
      "execution_count": 203,
      "metadata": {
        "colab": {
          "base_uri": "https://localhost:8080/"
        },
        "id": "aUpUWMMIrsdz",
        "outputId": "704bc4c0-96a0-4c06-c3ed-b707c8bea14f"
      },
      "outputs": [
        {
          "output_type": "stream",
          "name": "stdout",
          "text": [
            "Average thermal power per fuel pin: 0.02338380281690141 [MW/pin]\n",
            "Average coolant mass flowrate per channel: 2.0020379124059424 [kg/s]\n",
            "Hydraulic diameter of channel: 0.01920569249343714 [m]\n",
            "Average velocity of coolant in channel 1.4842866438142674 [m/s]\n",
            "Reynolds number of coolant: 149945.52000789868\n",
            "Darcy factor of coolant per channel: 0.01696801830703975\n",
            "Prandtl number of coolant: 0.018838709677419355\n",
            "Peclet number of coolant: 2824.7801188584785\n",
            "Pin-pitch to cladding outer diameter ratio: 1.5999999999999999\n",
            "Nusselt1 number of coolant: 32.439724710137625\n",
            "Nusselt number of coolant: 12.570784551614757\n",
            "Heat transfer coefficient of coolant: 10145.281697945067 [W/m^2-°C]\n"
          ]
        }
      ],
      "source": [
        "# COLD GEOMETRY ANALYSIS\n",
        "# (I)\n",
        "\n",
        "# Coolant mass flowrate  (square channel 1/4*4 fuel pins = 1 fuel pin)\n",
        "P_FP = P_FA/N_FP #[MW/pin] Average thermal power per fuel pin\n",
        "m_co = P_FP/(cp_co*(T_co_out - T_co_in))*1e6 #[kg/s] Average coolant mass flowrate per channel\n",
        "volflow_co = m_co/rho_co #[m^3/s] Average volumetric flow of coolant per channel\n",
        "print('Average thermal power per fuel pin:',P_FP,'[MW/pin]')\n",
        "print('Average coolant mass flowrate per channel:',m_co,'[kg/s]')\n",
        "\n",
        "# Geometry of channel\n",
        "A_channel = pitch**2-(np.pi*D_clad_ext**2/4) #[mm^2] Area channel\n",
        "P_w = np.pi*D_clad_ext #[mm] Wet perimeter\n",
        "D_h = 4*A_channel/P_w/1000 #[m] Hydraulic diameter of channel\n",
        "print('Hydraulic diameter of channel:',D_h, '[m]')\n",
        "\n",
        "# Calculation of velocity of coolant in channel\n",
        "v_co = volflow_co/(A_channel/1e6) #[m/s] Average velocity of coolant in channel\n",
        "print('Average velocity of coolant in channel',v_co,'[m/s]')\n",
        "\n",
        "# Reynolds number of coolant\n",
        "Re_co = rho_co*v_co*D_h/mu_co #[/]\n",
        "print('Reynolds number of coolant:', Re_co)\n",
        "\n",
        "# Darcy factor\n",
        "f_darcy=0.184*Re_co**(-0.20)\n",
        "print('Darcy factor of coolant per channel:', f_darcy)\n",
        "\n",
        "# Calculation of Prandtl number\n",
        "Pr_co = mu_co*cp_co/k_co #[/]\n",
        "print('Prandtl number of coolant:', Pr_co)\n",
        "\n",
        "# Calculation of Peclet number\n",
        "Pe_co = Re_co*Pr_co #[/]\n",
        "print('Peclet number of coolant:', Pe_co)\n",
        "\n",
        "# Calculation of Nusselt number\n",
        "x = pitch/D_clad_ext #[/] Pin-pitch to cladding outer diameter ratio\n",
        "print('Pin-pitch to cladding outer diameter ratio:', x)\n",
        "Nu_co_1 = 0.58*(D_h/(D_clad_ext/1000))**0.55*Pe_co**0.45 #discarded x value out of range\n",
        "Nu_co = 4.5 + 0.014*Pe_co**0.8\n",
        "print('Nusselt1 number of coolant:', Nu_co_1)\n",
        "print('Nusselt number of coolant:', Nu_co)\n",
        "\n",
        "# Heat transfer coefficient of coolant\n",
        "h_co = Nu_co*k_co/D_h #[W/m^2-°C]\n",
        "print('Heat transfer coefficient of coolant:', h_co, '[W/m^2-°C]')"
      ]
    },
    {
      "cell_type": "code",
      "source": [
        "# COLD GEOMETRY ANALYSIS\n",
        "# (II)\n",
        "\n",
        "# Average linear heat rate\n",
        "q_l_av = P_FP*1000/(H_act/1000) #[kW/m]\n",
        "print('Average linear heat rate', q_l_av, '[kW/m]')\n",
        "\n",
        "# Axial linear heat rate distribution [kW]\n",
        "def q_l(z, H_ext):\n",
        "    return q_l0 * np.cos(np.pi * z / H_ext)\n",
        "\n",
        "# Average power per half fuel pin\n",
        "int_q_l = (P_FP*1000)/2 #[kW] Integral from z=0 to z=H_act/2 + H_ext is equal to the half of average power of 1 fuel pin\n",
        "print('Fuel power of half pin fuel:',int_q_l,'[kW]')\n",
        "\n",
        "# Define a function for the integral and the target value\n",
        "def integral_eq(H_ext):\n",
        "    # Compute the integral of q_l from 0 to H_ext\n",
        "    integral, _ = quad(q_l, 0, H_act/2+H_ext, args=(H_ext,))\n",
        "    return integral - int_q_l  # Return the difference from the target value\n",
        "\n",
        "# Use fsolve to solve for H_ext that satisfies the integral equation\n",
        "H_ext_solution = fsolve(integral_eq, 1.0)  # Initial guess for H_ext\n",
        "\n",
        "print(f\"Calculated H_ext: {H_ext_solution[0]}\", \"[mm]\")"
      ],
      "metadata": {
        "colab": {
          "base_uri": "https://localhost:8080/"
        },
        "id": "88P7WklAg0Qs",
        "outputId": "a53b038b-3541-45a3-defd-83eb4fe671ad"
      },
      "execution_count": 204,
      "outputs": [
        {
          "output_type": "stream",
          "name": "stdout",
          "text": [
            "Average linear heat rate 21.25800256081946 [kW/m]\n",
            "Fuel power of half pin fuel: 11.691901408450704 [kW]\n",
            "Calculated H_ext: 1.0006355277775125 [mm]\n"
          ]
        },
        {
          "output_type": "stream",
          "name": "stderr",
          "text": [
            "<ipython-input-204-d56b739f3b0c>:19: IntegrationWarning: The maximum number of subdivisions (50) has been achieved.\n",
            "  If increasing the limit yields no improvement it is advised to analyze \n",
            "  the integrand in order to determine the difficulties.  If the position of a \n",
            "  local difficulty can be determined (singularity, discontinuity) one will \n",
            "  probably gain from splitting up the interval and calling the integrator \n",
            "  on the subranges.  Perhaps a special-purpose integrator should be used.\n",
            "  integral, _ = quad(q_l, 0, H_act/2+H_ext, args=(H_ext,))\n"
          ]
        }
      ]
    },
    {
      "cell_type": "code",
      "execution_count": 205,
      "metadata": {
        "colab": {
          "base_uri": "https://localhost:8080/"
        },
        "id": "zFHLggP2PeN1",
        "outputId": "d4754caf-9677-4e3a-b776-b83ebeafc884"
      },
      "outputs": [
        {
          "output_type": "stream",
          "name": "stdout",
          "text": [
            "Cos(***): -0.45589772450304133\n",
            "q_l2(z = 0 [mm]) = 26.03 [kW/m]\n",
            "q_l2(z = 551.0006355277775 [mm]) = -11.867017768814167 [kW/m]\n",
            "Average thermal power per fuel pin: 23.383802816901408 [kW/pin]\n",
            "Integral result: 23.383802816847783 [kW/pin]\n",
            "Estimated error: 974.7495971239234\n"
          ]
        },
        {
          "output_type": "stream",
          "name": "stderr",
          "text": [
            "<ipython-input-205-cd5b0d34d048>:20: IntegrationWarning: The maximum number of subdivisions (50) has been achieved.\n",
            "  If increasing the limit yields no improvement it is advised to analyze \n",
            "  the integrand in order to determine the difficulties.  If the position of a \n",
            "  local difficulty can be determined (singularity, discontinuity) one will \n",
            "  probably gain from splitting up the interval and calling the integrator \n",
            "  on the subranges.  Perhaps a special-purpose integrator should be used.\n",
            "  result, error = quad(q_l2, 0, H_act/2 + H_ext)\n"
          ]
        }
      ],
      "source": [
        "# Verification of extrapolated length\n",
        "H_ext = H_ext_solution[0]\n",
        "z = H_act/2 + H_ext\n",
        "\n",
        "a = np.cos(np.pi * z/H_ext) #a should be zero\n",
        "print(f\"Cos(***): {a}\")\n",
        "\n",
        "# Axial linear heat rate distribution [kW]\n",
        "def q_l2(z):\n",
        "    return q_l0 * np.cos(np.pi * z / H_ext)\n",
        "\n",
        "# Evaluate the function at different values of z\n",
        "z1 = 0\n",
        "z2 = H_act/2 + H_ext\n",
        "\n",
        "print(f\"q_l2(z = {z1} [mm]) = {q_l2(z1)} [kW/m]\")  #corresponds to qo given\n",
        "print(f\"q_l2(z = {z2} [mm]) = {q_l2(z2)} [kW/m]\")  #should be 0 in the extrapolated border\n",
        "\n",
        "# Calculate the integral from 0 to 2\n",
        "result, error = quad(q_l2, 0, H_act/2 + H_ext)\n",
        "\n",
        "print('Average thermal power per fuel pin:',P_FP*1000,'[kW/pin]')\n",
        "print(\"Integral result:\", 2*result,'[kW/pin]')\n",
        "print(\"Estimated error:\", error)"
      ]
    },
    {
      "cell_type": "code",
      "execution_count": 206,
      "metadata": {
        "colab": {
          "base_uri": "https://localhost:8080/"
        },
        "id": "4EfQyTIenK_B",
        "outputId": "d022147e-9945-485e-c688-ff7067a86d62"
      },
      "outputs": [
        {
          "output_type": "error",
          "ename": "NameError",
          "evalue": "name 'T_gas_fuel' is not defined",
          "traceback": [
            "\u001b[0;31m---------------------------------------------------------------------------\u001b[0m",
            "\u001b[0;31mNameError\u001b[0m                                 Traceback (most recent call last)",
            "\u001b[0;32m<ipython-input-206-14cfeb5d0e18>\u001b[0m in \u001b[0;36m<cell line: 5>\u001b[0;34m()\u001b[0m\n\u001b[1;32m      3\u001b[0m \u001b[0;31m# Radial temperature profile in fuel pin\u001b[0m\u001b[0;34m\u001b[0m\u001b[0;34m\u001b[0m\u001b[0m\n\u001b[1;32m      4\u001b[0m \u001b[0;34m\u001b[0m\u001b[0m\n\u001b[0;32m----> 5\u001b[0;31m \u001b[0mtheta_gas\u001b[0m \u001b[0;34m=\u001b[0m \u001b[0;34m(\u001b[0m\u001b[0mT_gas_fuel\u001b[0m \u001b[0;34m+\u001b[0m \u001b[0mT_gas_clad\u001b[0m\u001b[0;34m)\u001b[0m\u001b[0;34m/\u001b[0m\u001b[0;36m2\u001b[0m \u001b[0;31m#[°C] Average temperature of Helium\u001b[0m\u001b[0;34m\u001b[0m\u001b[0;34m\u001b[0m\u001b[0m\n\u001b[0m\u001b[1;32m      6\u001b[0m \u001b[0mk_gas\u001b[0m \u001b[0;34m=\u001b[0m \u001b[0;36m15.8e-4\u001b[0m\u001b[0;34m*\u001b[0m\u001b[0mtheta_gas\u001b[0m\u001b[0;34m**\u001b[0m\u001b[0;36m0.79\u001b[0m \u001b[0;31m#[W/m-K] Thermal conductivity of Helium\u001b[0m\u001b[0;34m\u001b[0m\u001b[0;34m\u001b[0m\u001b[0m\n\u001b[1;32m      7\u001b[0m \u001b[0;34m\u001b[0m\u001b[0m\n",
            "\u001b[0;31mNameError\u001b[0m: name 'T_gas_fuel' is not defined"
          ]
        }
      ],
      "source": [
        "# HOT GEOMETRY ANALYSIS\n",
        "\n",
        "# Radial temperature profile in fuel pin\n",
        "\n",
        "theta_gas = (T_gas_fuel + T_gas_clad)/2 #[°C] Average temperature of Helium\n",
        "k_gas = 15.8e-4*theta_gas**0.79 #[W/m-K] Thermal conductivity of Helium\n",
        "\n"
      ]
    }
  ],
  "metadata": {
    "colab": {
      "provenance": []
    },
    "kernelspec": {
      "display_name": "Python 3",
      "name": "python3"
    },
    "language_info": {
      "name": "python"
    }
  },
  "nbformat": 4,
  "nbformat_minor": 0
}